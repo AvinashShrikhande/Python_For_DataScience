{
  "nbformat": 4,
  "nbformat_minor": 0,
  "metadata": {
    "colab": {
      "name": "NumPy.ipynb",
      "provenance": [],
      "collapsed_sections": [],
      "authorship_tag": "ABX9TyN/AFy0TRe11i0PaK75BQ5R",
      "include_colab_link": true
    },
    "kernelspec": {
      "name": "python3",
      "display_name": "Python 3"
    },
    "language_info": {
      "name": "python"
    }
  },
  "cells": [
    {
      "cell_type": "markdown",
      "metadata": {
        "id": "view-in-github",
        "colab_type": "text"
      },
      "source": [
        "<a href=\"https://colab.research.google.com/github/AvinashShrikhande/Python_For_DataScience/blob/main/NumPy.ipynb\" target=\"_parent\"><img src=\"https://colab.research.google.com/assets/colab-badge.svg\" alt=\"Open In Colab\"/></a>"
      ]
    },
    {
      "cell_type": "markdown",
      "metadata": {
        "id": "OZyv-ANyJc1R"
      },
      "source": [
        "### **A Quick Introduction to Numerical Data Manipulation with Python and NumPy**"
      ]
    },
    {
      "cell_type": "markdown",
      "metadata": {
        "id": "vAD6_SGdJkvY"
      },
      "source": [
        "### **What is NumPy?**"
      ]
    },
    {
      "cell_type": "markdown",
      "metadata": {
        "id": "jsAHuTZ1JrCu"
      },
      "source": [
        "NumPy stands for numerical Python. It's the backbone of all kinds of scientific and numerical computing in Python.\n",
        "\n",
        "And since machine learning is all about turning data into numbers and then figuring out the patterns, NumPy often comes into play. **bold text**"
      ]
    },
    {
      "cell_type": "markdown",
      "metadata": {
        "id": "EIFLuHvaJvfG"
      },
      "source": [
        "### Why NumPy?"
      ]
    },
    {
      "cell_type": "markdown",
      "metadata": {
        "id": "hZaffW9GJzTf"
      },
      "source": [
        "You can do numerical calculations using pure Python. In the beginning, you might think Python is fast but once your data gets large, you'll start to notice slow downs.\n",
        "\n",
        "One of the main reasons you use NumPy is because it's fast. Behind the scenes, the code has been optimized to run using C. Which is another programming language, which can do things much faster than Python.\n",
        "\n",
        "The benefit of this being behind the scenes is you don't need to know any C to take advantage of it. You can write your numerical computations in Python using NumPy and get the added speed benefits.\n",
        "\n",
        "If your curious as to what causes this speed benefit, it's a process called vectorization,vectorization aims to do calculations by avoiding loops as loops can create potential bottlenecks.\n",
        "\n",
        "NumPy achieves vectorization through a process called broadcasting. **bold text**"
      ]
    },
    {
      "cell_type": "markdown",
      "metadata": {
        "id": "RuuBU67oKE15"
      },
      "source": [
        "### **1. Importing NumPy**"
      ]
    },
    {
      "cell_type": "code",
      "metadata": {
        "id": "XDxobRIrJpqB"
      },
      "source": [
        "import numpy as np"
      ],
      "execution_count": 2,
      "outputs": []
    },
    {
      "cell_type": "markdown",
      "metadata": {
        "id": "E4ct66E8KYL5"
      },
      "source": [
        "\n",
        "### 1. DataTypes and attributes **bold text**"
      ]
    },
    {
      "cell_type": "markdown",
      "metadata": {
        "id": "GePzMuaUKeKl"
      },
      "source": [
        "NOTE: Important to remember the main type in NumPy is ndarray, even seemingly different kinds of arrays are still ndarray's. This means an operation you do on one array, will work on another."
      ]
    },
    {
      "cell_type": "code",
      "metadata": {
        "id": "HewuceC3JYJ9"
      },
      "source": [
        "# 1-dimensonal array, also referred to as a vector\n",
        "a1 = np.array([1, 2, 3])\n",
        "\n",
        "# 2-dimensional array, also referred to as matrix\n",
        "a2 = np.array([[1, 2.0, 3.3],\n",
        "               [4, 5, 6.5]])\n",
        "\n",
        "# 3-dimensional array, also referred to as a matrix\n",
        "a3 = np.array([[[1, 2, 3],\n",
        "                [4, 5, 6],\n",
        "                [7, 8, 9]],\n",
        "                [[10, 11, 12],\n",
        "                 [13, 14, 15],\n",
        "                 [16, 17, 18]]])"
      ],
      "execution_count": null,
      "outputs": []
    },
    {
      "cell_type": "code",
      "metadata": {
        "colab": {
          "base_uri": "https://localhost:8080/"
        },
        "id": "owDookiIK6wd",
        "outputId": "6057d2ca-cbf8-43a7-865b-8d6fa0676661"
      },
      "source": [
        "a1.shape, a1.ndim, a1.dtype, a1.size, type(a1)"
      ],
      "execution_count": null,
      "outputs": [
        {
          "output_type": "execute_result",
          "data": {
            "text/plain": [
              "((3,), 1, dtype('int64'), 3, numpy.ndarray)"
            ]
          },
          "metadata": {
            "tags": []
          },
          "execution_count": 7
        }
      ]
    },
    {
      "cell_type": "code",
      "metadata": {
        "colab": {
          "base_uri": "https://localhost:8080/"
        },
        "id": "JPs8OpJ8K-In",
        "outputId": "8a799742-0828-416c-d988-cf057c1ce498"
      },
      "source": [
        "a2.shape, a2.ndim, a2.dtype, a2.size, type(a2)"
      ],
      "execution_count": null,
      "outputs": [
        {
          "output_type": "execute_result",
          "data": {
            "text/plain": [
              "((2, 3), 2, dtype('float64'), 6, numpy.ndarray)"
            ]
          },
          "metadata": {
            "tags": []
          },
          "execution_count": 8
        }
      ]
    },
    {
      "cell_type": "code",
      "metadata": {
        "colab": {
          "base_uri": "https://localhost:8080/"
        },
        "id": "KtK9_OxOLCQi",
        "outputId": "9b61eabe-7288-4d7b-c40c-6dc75c7ab0e2"
      },
      "source": [
        "a3.shape, a3.ndim, a3.dtype, a3.size, type(a3)"
      ],
      "execution_count": null,
      "outputs": [
        {
          "output_type": "execute_result",
          "data": {
            "text/plain": [
              "((2, 3, 3), 3, dtype('int64'), 18, numpy.ndarray)"
            ]
          },
          "metadata": {
            "tags": []
          },
          "execution_count": 9
        }
      ]
    },
    {
      "cell_type": "code",
      "metadata": {
        "colab": {
          "base_uri": "https://localhost:8080/"
        },
        "id": "YN9_al-pLCNy",
        "outputId": "4068d716-561c-4ec2-8c37-5f836915fab7"
      },
      "source": [
        "a1"
      ],
      "execution_count": null,
      "outputs": [
        {
          "output_type": "execute_result",
          "data": {
            "text/plain": [
              "array([1, 2, 3])"
            ]
          },
          "metadata": {
            "tags": []
          },
          "execution_count": 9
        }
      ]
    },
    {
      "cell_type": "code",
      "metadata": {
        "colab": {
          "base_uri": "https://localhost:8080/"
        },
        "id": "bfn5LkDgLCLD",
        "outputId": "a3365f36-8ba0-443d-9a4c-c2dd30de83c1"
      },
      "source": [
        "a2"
      ],
      "execution_count": null,
      "outputs": [
        {
          "output_type": "execute_result",
          "data": {
            "text/plain": [
              "array([[1. , 2. , 3.3],\n",
              "       [4. , 5. , 6.5]])"
            ]
          },
          "metadata": {
            "tags": []
          },
          "execution_count": 10
        }
      ]
    },
    {
      "cell_type": "code",
      "metadata": {
        "colab": {
          "base_uri": "https://localhost:8080/"
        },
        "id": "lRxjlyhFLCHv",
        "outputId": "93cabb65-1d8f-433d-a39e-61fdbf236ca3"
      },
      "source": [
        "a3"
      ],
      "execution_count": null,
      "outputs": [
        {
          "output_type": "execute_result",
          "data": {
            "text/plain": [
              "array([[[ 1,  2,  3],\n",
              "        [ 4,  5,  6],\n",
              "        [ 7,  8,  9]],\n",
              "\n",
              "       [[10, 11, 12],\n",
              "        [13, 14, 15],\n",
              "        [16, 17, 18]]])"
            ]
          },
          "metadata": {
            "tags": []
          },
          "execution_count": 10
        }
      ]
    },
    {
      "cell_type": "markdown",
      "metadata": {
        "id": "R-yHIwMKLXSl"
      },
      "source": [
        "\n",
        "### **Anatomy of an array**"
      ]
    },
    {
      "cell_type": "markdown",
      "metadata": {
        "id": "Bv54aj6TLbTS"
      },
      "source": [
        "Key terms:\n",
        "\n",
        "*   Array - A list of numbers, can be multi-dimensional.\n",
        "*  Scalar - A single number (e.g. 7).\n",
        "*  Vector - A list of numbers with 1-dimesion (e.g. np.array([1, 2, 3])).\n",
        "*  Matrix - A (usually) multi-deminsional list of numbers (e.g. np.array([[1, 2, 3], [4, 5, 6]]))."
      ]
    },
    {
      "cell_type": "markdown",
      "metadata": {
        "id": "ZGuf2ibSL4eo"
      },
      "source": [
        "\n",
        "### **pandas DataFrame out of NumPy arrays**"
      ]
    },
    {
      "cell_type": "markdown",
      "metadata": {
        "id": "fc4XRZ1LL8qB"
      },
      "source": [
        "This is to examplify how NumPy is the backbone of many other libraries.\n",
        "\n"
      ]
    },
    {
      "cell_type": "code",
      "metadata": {
        "colab": {
          "base_uri": "https://localhost:8080/",
          "height": 195
        },
        "id": "lYbBMw5mLB1h",
        "outputId": "0c31a30b-60c8-40b5-cfb8-32e1b56f92f2"
      },
      "source": [
        "import pandas as pd\n",
        "df = pd.DataFrame(np.random.randint(10, size=(5, 3)), \n",
        "                                    columns=['a', 'b', 'c'])\n",
        "df"
      ],
      "execution_count": null,
      "outputs": [
        {
          "output_type": "execute_result",
          "data": {
            "text/html": [
              "<div>\n",
              "<style scoped>\n",
              "    .dataframe tbody tr th:only-of-type {\n",
              "        vertical-align: middle;\n",
              "    }\n",
              "\n",
              "    .dataframe tbody tr th {\n",
              "        vertical-align: top;\n",
              "    }\n",
              "\n",
              "    .dataframe thead th {\n",
              "        text-align: right;\n",
              "    }\n",
              "</style>\n",
              "<table border=\"1\" class=\"dataframe\">\n",
              "  <thead>\n",
              "    <tr style=\"text-align: right;\">\n",
              "      <th></th>\n",
              "      <th>a</th>\n",
              "      <th>b</th>\n",
              "      <th>c</th>\n",
              "    </tr>\n",
              "  </thead>\n",
              "  <tbody>\n",
              "    <tr>\n",
              "      <th>0</th>\n",
              "      <td>7</td>\n",
              "      <td>3</td>\n",
              "      <td>4</td>\n",
              "    </tr>\n",
              "    <tr>\n",
              "      <th>1</th>\n",
              "      <td>8</td>\n",
              "      <td>6</td>\n",
              "      <td>8</td>\n",
              "    </tr>\n",
              "    <tr>\n",
              "      <th>2</th>\n",
              "      <td>3</td>\n",
              "      <td>4</td>\n",
              "      <td>1</td>\n",
              "    </tr>\n",
              "    <tr>\n",
              "      <th>3</th>\n",
              "      <td>1</td>\n",
              "      <td>4</td>\n",
              "      <td>9</td>\n",
              "    </tr>\n",
              "    <tr>\n",
              "      <th>4</th>\n",
              "      <td>4</td>\n",
              "      <td>7</td>\n",
              "      <td>4</td>\n",
              "    </tr>\n",
              "  </tbody>\n",
              "</table>\n",
              "</div>"
            ],
            "text/plain": [
              "   a  b  c\n",
              "0  7  3  4\n",
              "1  8  6  8\n",
              "2  3  4  1\n",
              "3  1  4  9\n",
              "4  4  7  4"
            ]
          },
          "metadata": {
            "tags": []
          },
          "execution_count": 12
        }
      ]
    },
    {
      "cell_type": "code",
      "metadata": {
        "colab": {
          "base_uri": "https://localhost:8080/"
        },
        "id": "ah7B6SsUMEN-",
        "outputId": "30706c32-a786-41f1-928e-851b84bffd24"
      },
      "source": [
        "a2"
      ],
      "execution_count": null,
      "outputs": [
        {
          "output_type": "execute_result",
          "data": {
            "text/plain": [
              "array([[1. , 2. , 3.3],\n",
              "       [4. , 5. , 6.5]])"
            ]
          },
          "metadata": {
            "tags": []
          },
          "execution_count": 13
        }
      ]
    },
    {
      "cell_type": "code",
      "metadata": {
        "colab": {
          "base_uri": "https://localhost:8080/",
          "height": 106
        },
        "id": "C6l27SVWMIvk",
        "outputId": "2f12db4c-5e93-4d6a-e6e0-ac5240baea6c"
      },
      "source": [
        "df2 = pd.DataFrame(a2)\n",
        "df2"
      ],
      "execution_count": null,
      "outputs": [
        {
          "output_type": "execute_result",
          "data": {
            "text/html": [
              "<div>\n",
              "<style scoped>\n",
              "    .dataframe tbody tr th:only-of-type {\n",
              "        vertical-align: middle;\n",
              "    }\n",
              "\n",
              "    .dataframe tbody tr th {\n",
              "        vertical-align: top;\n",
              "    }\n",
              "\n",
              "    .dataframe thead th {\n",
              "        text-align: right;\n",
              "    }\n",
              "</style>\n",
              "<table border=\"1\" class=\"dataframe\">\n",
              "  <thead>\n",
              "    <tr style=\"text-align: right;\">\n",
              "      <th></th>\n",
              "      <th>0</th>\n",
              "      <th>1</th>\n",
              "      <th>2</th>\n",
              "    </tr>\n",
              "  </thead>\n",
              "  <tbody>\n",
              "    <tr>\n",
              "      <th>0</th>\n",
              "      <td>1.0</td>\n",
              "      <td>2.0</td>\n",
              "      <td>3.3</td>\n",
              "    </tr>\n",
              "    <tr>\n",
              "      <th>1</th>\n",
              "      <td>4.0</td>\n",
              "      <td>5.0</td>\n",
              "      <td>6.5</td>\n",
              "    </tr>\n",
              "  </tbody>\n",
              "</table>\n",
              "</div>"
            ],
            "text/plain": [
              "     0    1    2\n",
              "0  1.0  2.0  3.3\n",
              "1  4.0  5.0  6.5"
            ]
          },
          "metadata": {
            "tags": []
          },
          "execution_count": 14
        }
      ]
    },
    {
      "cell_type": "markdown",
      "metadata": {
        "id": "uDvNxWHgMLCE"
      },
      "source": [
        "### **2. Creating arrays**\n"
      ]
    },
    {
      "cell_type": "markdown",
      "metadata": {
        "id": "-hziuWJSMRro"
      },
      "source": [
        "\n",
        "*   np.array()\n",
        "*   np.ones()\n",
        "*   np.zeros()\n",
        "*   np.random.rand(5, 3)\n",
        "*   np.random.randint(10, size=5)\n",
        "*   np.random.seed() - pseudo random numbers\n",
        "*   Searching the documentation example (finding np.unique() and using it)"
      ]
    },
    {
      "cell_type": "code",
      "metadata": {
        "colab": {
          "base_uri": "https://localhost:8080/"
        },
        "id": "nFmMaNqhMuXP",
        "outputId": "4db20115-d988-4e0e-e446-e8b3c3edf257"
      },
      "source": [
        "# Create a simple array\n",
        "simple_array = np.array([1, 2, 3])\n",
        "simple_array"
      ],
      "execution_count": null,
      "outputs": [
        {
          "output_type": "execute_result",
          "data": {
            "text/plain": [
              "array([1, 2, 3])"
            ]
          },
          "metadata": {
            "tags": []
          },
          "execution_count": 15
        }
      ]
    },
    {
      "cell_type": "code",
      "metadata": {
        "colab": {
          "base_uri": "https://localhost:8080/"
        },
        "id": "uv423UJ8MuSO",
        "outputId": "a2025137-2f25-4ef6-b26b-5693562e31ca"
      },
      "source": [
        "simple_array = np.array((1, 2, 3))\n",
        "simple_array, simple_array.dtype"
      ],
      "execution_count": null,
      "outputs": [
        {
          "output_type": "execute_result",
          "data": {
            "text/plain": [
              "(array([1, 2, 3]), dtype('int64'))"
            ]
          },
          "metadata": {
            "tags": []
          },
          "execution_count": 19
        }
      ]
    },
    {
      "cell_type": "code",
      "metadata": {
        "colab": {
          "base_uri": "https://localhost:8080/"
        },
        "id": "zf2QK_0ZMuQP",
        "outputId": "e92c163f-6a07-494b-f16b-10a42827185a"
      },
      "source": [
        "# Create an array of ones\n",
        "ones = np.ones((10, 2))\n",
        "ones"
      ],
      "execution_count": null,
      "outputs": [
        {
          "output_type": "execute_result",
          "data": {
            "text/plain": [
              "array([[1., 1.],\n",
              "       [1., 1.],\n",
              "       [1., 1.],\n",
              "       [1., 1.],\n",
              "       [1., 1.],\n",
              "       [1., 1.],\n",
              "       [1., 1.],\n",
              "       [1., 1.],\n",
              "       [1., 1.],\n",
              "       [1., 1.]])"
            ]
          },
          "metadata": {
            "tags": []
          },
          "execution_count": 17
        }
      ]
    },
    {
      "cell_type": "code",
      "metadata": {
        "colab": {
          "base_uri": "https://localhost:8080/"
        },
        "id": "3Ig3NZLbMuM4",
        "outputId": "0cc9d624-66c3-4b2a-f33e-435e71d0b015"
      },
      "source": [
        "# The default datatype is 'float64'\n",
        "ones.dtype"
      ],
      "execution_count": null,
      "outputs": [
        {
          "output_type": "execute_result",
          "data": {
            "text/plain": [
              "dtype('float64')"
            ]
          },
          "metadata": {
            "tags": []
          },
          "execution_count": 18
        }
      ]
    },
    {
      "cell_type": "code",
      "metadata": {
        "colab": {
          "base_uri": "https://localhost:8080/"
        },
        "id": "Uwii_l62MuKG",
        "outputId": "14fbc735-5a82-4074-ab09-25f8814229ef"
      },
      "source": [
        "# You can change the datatype with .astype()\n",
        "ones.astype(int)"
      ],
      "execution_count": null,
      "outputs": [
        {
          "output_type": "execute_result",
          "data": {
            "text/plain": [
              "array([[1, 1],\n",
              "       [1, 1],\n",
              "       [1, 1],\n",
              "       [1, 1],\n",
              "       [1, 1],\n",
              "       [1, 1],\n",
              "       [1, 1],\n",
              "       [1, 1],\n",
              "       [1, 1],\n",
              "       [1, 1]])"
            ]
          },
          "metadata": {
            "tags": []
          },
          "execution_count": 21
        }
      ]
    },
    {
      "cell_type": "code",
      "metadata": {
        "colab": {
          "base_uri": "https://localhost:8080/"
        },
        "id": "drlbFg7vMuHS",
        "outputId": "d3382579-b14f-47c6-cec2-5ccfcf995aa4"
      },
      "source": [
        "# Create an array of zeros\n",
        "zeros = np.zeros((5, 3, 3))\n",
        "zeros"
      ],
      "execution_count": null,
      "outputs": [
        {
          "output_type": "execute_result",
          "data": {
            "text/plain": [
              "array([[[0., 0., 0.],\n",
              "        [0., 0., 0.],\n",
              "        [0., 0., 0.]],\n",
              "\n",
              "       [[0., 0., 0.],\n",
              "        [0., 0., 0.],\n",
              "        [0., 0., 0.]],\n",
              "\n",
              "       [[0., 0., 0.],\n",
              "        [0., 0., 0.],\n",
              "        [0., 0., 0.]],\n",
              "\n",
              "       [[0., 0., 0.],\n",
              "        [0., 0., 0.],\n",
              "        [0., 0., 0.]],\n",
              "\n",
              "       [[0., 0., 0.],\n",
              "        [0., 0., 0.],\n",
              "        [0., 0., 0.]]])"
            ]
          },
          "metadata": {
            "tags": []
          },
          "execution_count": 22
        }
      ]
    },
    {
      "cell_type": "code",
      "metadata": {
        "colab": {
          "base_uri": "https://localhost:8080/"
        },
        "id": "Dbs0SqH-MuEl",
        "outputId": "7d5c0efb-c6b6-4b13-f204-1a9e19d4aadf"
      },
      "source": [
        "zeros.dtype"
      ],
      "execution_count": null,
      "outputs": [
        {
          "output_type": "execute_result",
          "data": {
            "text/plain": [
              "dtype('float64')"
            ]
          },
          "metadata": {
            "tags": []
          },
          "execution_count": 23
        }
      ]
    },
    {
      "cell_type": "code",
      "metadata": {
        "colab": {
          "base_uri": "https://localhost:8080/"
        },
        "id": "Fq7keUMRMt9A",
        "outputId": "3df0a0f5-5cb3-41cb-dd84-ecb6237dd490"
      },
      "source": [
        "# Create an array within a range of values\n",
        "range_array = np.arange(0, 10, 2)\n",
        "range_array"
      ],
      "execution_count": null,
      "outputs": [
        {
          "output_type": "execute_result",
          "data": {
            "text/plain": [
              "array([0, 2, 4, 6, 8])"
            ]
          },
          "metadata": {
            "tags": []
          },
          "execution_count": 24
        }
      ]
    },
    {
      "cell_type": "code",
      "metadata": {
        "colab": {
          "base_uri": "https://localhost:8080/"
        },
        "id": "dePBFMZrNVu3",
        "outputId": "8b48da46-971c-4fe3-98b5-eb9c6bcf4bd1"
      },
      "source": [
        "# Random array\n",
        "random_array = np.random.randint(10, size=(5, 3))\n",
        "random_array"
      ],
      "execution_count": null,
      "outputs": [
        {
          "output_type": "execute_result",
          "data": {
            "text/plain": [
              "array([[9, 3, 1],\n",
              "       [0, 4, 8],\n",
              "       [3, 8, 2],\n",
              "       [3, 9, 2],\n",
              "       [4, 0, 5]])"
            ]
          },
          "metadata": {
            "tags": []
          },
          "execution_count": 25
        }
      ]
    },
    {
      "cell_type": "code",
      "metadata": {
        "colab": {
          "base_uri": "https://localhost:8080/"
        },
        "id": "t4iJNWxmNVsh",
        "outputId": "8ad2569c-4de0-48fd-cf19-c68b66c6b7e9"
      },
      "source": [
        "# Random array of floats (between 0 & 1)\n",
        "np.random.random((5, 3))"
      ],
      "execution_count": null,
      "outputs": [
        {
          "output_type": "execute_result",
          "data": {
            "text/plain": [
              "array([[0.57316283, 0.13848311, 0.43716189],\n",
              "       [0.37465423, 0.72535326, 0.17897145],\n",
              "       [0.66077011, 0.79386231, 0.69283944],\n",
              "       [0.76291165, 0.64921025, 0.89235129],\n",
              "       [0.79805494, 0.31915385, 0.09419216]])"
            ]
          },
          "metadata": {
            "tags": []
          },
          "execution_count": 26
        }
      ]
    },
    {
      "cell_type": "code",
      "metadata": {
        "colab": {
          "base_uri": "https://localhost:8080/"
        },
        "id": "s0OMUQ_jNVm9",
        "outputId": "86dfcf30-b5bc-450d-aae7-7a3954be8df9"
      },
      "source": [
        "np.random.random((5, 3))"
      ],
      "execution_count": null,
      "outputs": [
        {
          "output_type": "execute_result",
          "data": {
            "text/plain": [
              "array([[0.71340282, 0.68224087, 0.09370401],\n",
              "       [0.2699475 , 0.6872088 , 0.82141698],\n",
              "       [0.19160835, 0.87218561, 0.1659593 ],\n",
              "       [0.092336  , 0.52296592, 0.43855169],\n",
              "       [0.88186459, 0.67527228, 0.36989894]])"
            ]
          },
          "metadata": {
            "tags": []
          },
          "execution_count": 27
        }
      ]
    },
    {
      "cell_type": "code",
      "metadata": {
        "colab": {
          "base_uri": "https://localhost:8080/"
        },
        "id": "xFuNSpnpNhnZ",
        "outputId": "96723703-0d02-4635-e76d-d71f651d0309"
      },
      "source": [
        "# Random 5x3 array of floats (between 0 & 1), similar to above\n",
        "np.random.rand(5, 3)"
      ],
      "execution_count": null,
      "outputs": [
        {
          "output_type": "execute_result",
          "data": {
            "text/plain": [
              "array([[0.80235839, 0.648698  , 0.52887164],\n",
              "       [0.6857698 , 0.74016951, 0.48412763],\n",
              "       [0.06838505, 0.09818475, 0.59157726],\n",
              "       [0.11978153, 0.11918818, 0.298131  ],\n",
              "       [0.64571443, 0.19462665, 0.62968663]])"
            ]
          },
          "metadata": {
            "tags": []
          },
          "execution_count": 28
        }
      ]
    },
    {
      "cell_type": "code",
      "metadata": {
        "colab": {
          "base_uri": "https://localhost:8080/"
        },
        "id": "QgtSO4msN31S",
        "outputId": "b365816c-ddf6-42c1-e507-e78ca42181c3"
      },
      "source": [
        "np.random.rand(5, 3)"
      ],
      "execution_count": null,
      "outputs": [
        {
          "output_type": "execute_result",
          "data": {
            "text/plain": [
              "array([[0.60288132, 0.21149634, 0.22361013],\n",
              "       [0.18594674, 0.80601252, 0.0959047 ],\n",
              "       [0.32337443, 0.95785006, 0.83687221],\n",
              "       [0.13189855, 0.80356297, 0.71041159],\n",
              "       [0.42639587, 0.84626526, 0.77462847]])"
            ]
          },
          "metadata": {
            "tags": []
          },
          "execution_count": 29
        }
      ]
    },
    {
      "cell_type": "markdown",
      "metadata": {
        "id": "pfuPsCbBN__9"
      },
      "source": [
        "NumPy uses pseudo-random numbers, which means, the numbers look random but aren't really, they're predetermined.\n",
        "\n",
        "For consistency, you might want to keep the random numbers you generate similar throughout experiments.\n",
        "\n",
        "To do this, you can use np.random.seed().\n",
        "\n",
        "What this does is it tells NumPy, \"Hey, I want you to create random numbers but keep them aligned with the seed.\"\n",
        "\n",
        "Let's see it."
      ]
    },
    {
      "cell_type": "code",
      "metadata": {
        "colab": {
          "base_uri": "https://localhost:8080/"
        },
        "id": "hPPocF21N4bQ",
        "outputId": "0c29b741-89ff-404b-8eb3-48c07a692f45"
      },
      "source": [
        "# Set random seed to 0\n",
        "np.random.seed(0)\n",
        "\n",
        "# Make 'random' numbers\n",
        "np.random.randint(10, size=(5, 3))"
      ],
      "execution_count": null,
      "outputs": [
        {
          "output_type": "execute_result",
          "data": {
            "text/plain": [
              "array([[5, 0, 3],\n",
              "       [3, 7, 9],\n",
              "       [3, 5, 2],\n",
              "       [4, 7, 6],\n",
              "       [8, 8, 1]])"
            ]
          },
          "metadata": {
            "tags": []
          },
          "execution_count": 30
        }
      ]
    },
    {
      "cell_type": "markdown",
      "metadata": {
        "id": "89HJFZoVN_mS"
      },
      "source": [
        "\n",
        "With np.random.seed() set, every time you run the cell above, the same random numbers will be generated.\n",
        "\n",
        "What if np.random.seed() wasn't set?\n",
        "\n",
        "Every time you run the cell below, a new set of numbers will appear."
      ]
    },
    {
      "cell_type": "code",
      "metadata": {
        "colab": {
          "base_uri": "https://localhost:8080/"
        },
        "id": "CSp8b7voPacj",
        "outputId": "e91b3437-4423-4537-9cfe-d735b3d39ae8"
      },
      "source": [
        "# Make more random numbers\n",
        "np.random.randint(10, size=(5, 3))"
      ],
      "execution_count": null,
      "outputs": [
        {
          "output_type": "execute_result",
          "data": {
            "text/plain": [
              "array([[2, 3, 8],\n",
              "       [1, 3, 3],\n",
              "       [3, 7, 0],\n",
              "       [1, 9, 9],\n",
              "       [0, 4, 7]])"
            ]
          },
          "metadata": {
            "tags": []
          },
          "execution_count": 32
        }
      ]
    },
    {
      "cell_type": "markdown",
      "metadata": {
        "id": "mM83FL2WPh-c"
      },
      "source": [
        "\n",
        "Let's see it in action again, we'll stay consistent and set the random seed to 0."
      ]
    },
    {
      "cell_type": "code",
      "metadata": {
        "colab": {
          "base_uri": "https://localhost:8080/"
        },
        "id": "O3dB4Y91PcZv",
        "outputId": "e5294e3b-88f5-49e2-d930-5276ed6184fc"
      },
      "source": [
        "# Set random seed to same number as above\n",
        "np.random.seed(0)\n",
        "\n",
        "# The same random numbers come out\n",
        "np.random.randint(10, size=(5, 3))"
      ],
      "execution_count": null,
      "outputs": [
        {
          "output_type": "execute_result",
          "data": {
            "text/plain": [
              "array([[5, 0, 3],\n",
              "       [3, 7, 9],\n",
              "       [3, 5, 2],\n",
              "       [4, 7, 6],\n",
              "       [8, 8, 1]])"
            ]
          },
          "metadata": {
            "tags": []
          },
          "execution_count": 33
        }
      ]
    },
    {
      "cell_type": "markdown",
      "metadata": {
        "id": "1xWHlbw2Pq5p"
      },
      "source": [
        "Because np.random.seed() is set to 0, the random numbers are the same as the cell with np.random.seed() set to 0 as well.\n",
        "\n",
        "Setting np.random.seed() is not 100% necessary but it's helpful to keep numbers the same throughout your experiments.\n",
        "\n",
        "For example, say you wanted to split your data randomly into training and test sets.\n",
        "\n",
        "Every time you randomly split, you might get different rows in each set.\n",
        "\n",
        "If you shared your work with someone else, they'd get different rows in each set too.\n",
        "\n",
        "Setting np.random.seed() ensures there's still randomness, it just makes the randomness repeatable. Hence the 'pseudo-random' numbers."
      ]
    },
    {
      "cell_type": "code",
      "metadata": {
        "colab": {
          "base_uri": "https://localhost:8080/",
          "height": 195
        },
        "id": "Q6gqNkuUPs70",
        "outputId": "57b5d9a1-fa06-4a6a-af1e-d85884d536c4"
      },
      "source": [
        "np.random.seed(0)\n",
        "df = pd.DataFrame(np.random.randint(10, size=(5, 3)))\n",
        "df"
      ],
      "execution_count": null,
      "outputs": [
        {
          "output_type": "execute_result",
          "data": {
            "text/html": [
              "<div>\n",
              "<style scoped>\n",
              "    .dataframe tbody tr th:only-of-type {\n",
              "        vertical-align: middle;\n",
              "    }\n",
              "\n",
              "    .dataframe tbody tr th {\n",
              "        vertical-align: top;\n",
              "    }\n",
              "\n",
              "    .dataframe thead th {\n",
              "        text-align: right;\n",
              "    }\n",
              "</style>\n",
              "<table border=\"1\" class=\"dataframe\">\n",
              "  <thead>\n",
              "    <tr style=\"text-align: right;\">\n",
              "      <th></th>\n",
              "      <th>0</th>\n",
              "      <th>1</th>\n",
              "      <th>2</th>\n",
              "    </tr>\n",
              "  </thead>\n",
              "  <tbody>\n",
              "    <tr>\n",
              "      <th>0</th>\n",
              "      <td>5</td>\n",
              "      <td>0</td>\n",
              "      <td>3</td>\n",
              "    </tr>\n",
              "    <tr>\n",
              "      <th>1</th>\n",
              "      <td>3</td>\n",
              "      <td>7</td>\n",
              "      <td>9</td>\n",
              "    </tr>\n",
              "    <tr>\n",
              "      <th>2</th>\n",
              "      <td>3</td>\n",
              "      <td>5</td>\n",
              "      <td>2</td>\n",
              "    </tr>\n",
              "    <tr>\n",
              "      <th>3</th>\n",
              "      <td>4</td>\n",
              "      <td>7</td>\n",
              "      <td>6</td>\n",
              "    </tr>\n",
              "    <tr>\n",
              "      <th>4</th>\n",
              "      <td>8</td>\n",
              "      <td>8</td>\n",
              "      <td>1</td>\n",
              "    </tr>\n",
              "  </tbody>\n",
              "</table>\n",
              "</div>"
            ],
            "text/plain": [
              "   0  1  2\n",
              "0  5  0  3\n",
              "1  3  7  9\n",
              "2  3  5  2\n",
              "3  4  7  6\n",
              "4  8  8  1"
            ]
          },
          "metadata": {
            "tags": []
          },
          "execution_count": 34
        }
      ]
    },
    {
      "cell_type": "markdown",
      "metadata": {
        "id": "lrQVhWMZPzJg"
      },
      "source": [
        "### **What unique values are in the array a3?**"
      ]
    },
    {
      "cell_type": "markdown",
      "metadata": {
        "id": "azJm8I3YP5Nv"
      },
      "source": [
        "Now you've seen a few different ways to create arrays, as an exercise, try find out what NumPy function you could use to find the unique values are within the a3 array.\n",
        "\n",
        "You might want to search some like, \"how to find the unqiue values in a numpy array\"."
      ]
    },
    {
      "cell_type": "code",
      "metadata": {
        "id": "ZlyDNDj0PyKs"
      },
      "source": [
        ""
      ],
      "execution_count": null,
      "outputs": []
    },
    {
      "cell_type": "markdown",
      "metadata": {
        "id": "ZNt7J56ZP-C4"
      },
      "source": [
        "### **3. Viewing arrays and matrices (indexing)**"
      ]
    },
    {
      "cell_type": "markdown",
      "metadata": {
        "id": "QIMYmVcqQDVO"
      },
      "source": [
        "Remember, because arrays and matrices are both ndarray's, they can be viewed in similar ways.\n",
        "\n",
        "Let's check out our 3 arrays again."
      ]
    },
    {
      "cell_type": "code",
      "metadata": {
        "id": "b0mBHSYwQIRE",
        "colab": {
          "base_uri": "https://localhost:8080/"
        },
        "outputId": "8a954da4-c1b0-4d1f-c129-454cfc855a24"
      },
      "source": [
        "a1"
      ],
      "execution_count": null,
      "outputs": [
        {
          "output_type": "execute_result",
          "data": {
            "text/plain": [
              "array([1, 2, 3])"
            ]
          },
          "metadata": {
            "tags": []
          },
          "execution_count": 11
        }
      ]
    },
    {
      "cell_type": "code",
      "metadata": {
        "colab": {
          "base_uri": "https://localhost:8080/"
        },
        "id": "YT0K5BaYhYrg",
        "outputId": "c8e56f03-cc5b-4a62-a5b4-757a8bd88584"
      },
      "source": [
        "a2"
      ],
      "execution_count": null,
      "outputs": [
        {
          "output_type": "execute_result",
          "data": {
            "text/plain": [
              "array([[1. , 2. , 3.3],\n",
              "       [4. , 5. , 6.5]])"
            ]
          },
          "metadata": {
            "tags": []
          },
          "execution_count": 12
        }
      ]
    },
    {
      "cell_type": "code",
      "metadata": {
        "colab": {
          "base_uri": "https://localhost:8080/"
        },
        "id": "H3YnILVjhYpD",
        "outputId": "4ca186e9-6ab2-4ff4-fdb7-7587b5b25364"
      },
      "source": [
        "a3"
      ],
      "execution_count": null,
      "outputs": [
        {
          "output_type": "execute_result",
          "data": {
            "text/plain": [
              "array([[[ 1,  2,  3],\n",
              "        [ 4,  5,  6],\n",
              "        [ 7,  8,  9]],\n",
              "\n",
              "       [[10, 11, 12],\n",
              "        [13, 14, 15],\n",
              "        [16, 17, 18]]])"
            ]
          },
          "metadata": {
            "tags": []
          },
          "execution_count": 13
        }
      ]
    },
    {
      "cell_type": "code",
      "metadata": {
        "colab": {
          "base_uri": "https://localhost:8080/"
        },
        "id": "SMwYqlVwhYmN",
        "outputId": "f1c0550d-a632-420f-c776-b1856deff396"
      },
      "source": [
        "a1[0]"
      ],
      "execution_count": null,
      "outputs": [
        {
          "output_type": "execute_result",
          "data": {
            "text/plain": [
              "1"
            ]
          },
          "metadata": {
            "tags": []
          },
          "execution_count": 14
        }
      ]
    },
    {
      "cell_type": "code",
      "metadata": {
        "colab": {
          "base_uri": "https://localhost:8080/"
        },
        "id": "wz5oll_HhfbD",
        "outputId": "422fd5ff-8aa8-4b30-ed8e-23bf6dfa0fe6"
      },
      "source": [
        "a2[0]"
      ],
      "execution_count": null,
      "outputs": [
        {
          "output_type": "execute_result",
          "data": {
            "text/plain": [
              "array([1. , 2. , 3.3])"
            ]
          },
          "metadata": {
            "tags": []
          },
          "execution_count": 15
        }
      ]
    },
    {
      "cell_type": "code",
      "metadata": {
        "colab": {
          "base_uri": "https://localhost:8080/"
        },
        "id": "xtoVSuithhmy",
        "outputId": "c72d53cc-1bba-426d-b04e-6ef1bb829fd1"
      },
      "source": [
        "a3[0]"
      ],
      "execution_count": null,
      "outputs": [
        {
          "output_type": "execute_result",
          "data": {
            "text/plain": [
              "array([[1, 2, 3],\n",
              "       [4, 5, 6],\n",
              "       [7, 8, 9]])"
            ]
          },
          "metadata": {
            "tags": []
          },
          "execution_count": 16
        }
      ]
    },
    {
      "cell_type": "code",
      "metadata": {
        "colab": {
          "base_uri": "https://localhost:8080/"
        },
        "id": "Zd5GWb8ihhjD",
        "outputId": "1d689cd3-1030-4c04-9895-122194cbb8fc"
      },
      "source": [
        "# Get 2nd row (index 1) of a2\n",
        "a2[1]"
      ],
      "execution_count": null,
      "outputs": [
        {
          "output_type": "execute_result",
          "data": {
            "text/plain": [
              "array([4. , 5. , 6.5])"
            ]
          },
          "metadata": {
            "tags": []
          },
          "execution_count": 17
        }
      ]
    },
    {
      "cell_type": "code",
      "metadata": {
        "colab": {
          "base_uri": "https://localhost:8080/"
        },
        "id": "7GFvEaY-hnnZ",
        "outputId": "ce272d52-4854-4a19-c822-63aab46f8245"
      },
      "source": [
        "# Get the first 2 values of the first 2 rows of both arrays\n",
        "a3[:2, :2, :2]"
      ],
      "execution_count": null,
      "outputs": [
        {
          "output_type": "execute_result",
          "data": {
            "text/plain": [
              "array([[[ 1,  2],\n",
              "        [ 4,  5]],\n",
              "\n",
              "       [[10, 11],\n",
              "        [13, 14]]])"
            ]
          },
          "metadata": {
            "tags": []
          },
          "execution_count": 18
        }
      ]
    },
    {
      "cell_type": "markdown",
      "metadata": {
        "id": "wEut0lH5htUu"
      },
      "source": [
        "This takes a bit of practice, especially when the dimensions get higher. Usually, it takes me a little trial and error of trying to get certain values, viewing the output in the notebook and trying again.\n",
        "\n",
        "NumPy arrays get printed from outside to inside. This means the number at the end of the shape comes first, and the number at the start of the shape comes last."
      ]
    },
    {
      "cell_type": "code",
      "metadata": {
        "colab": {
          "base_uri": "https://localhost:8080/"
        },
        "id": "VPIS3AeKhs87",
        "outputId": "4fbdef4a-d68e-4e9a-aff5-606006c09118"
      },
      "source": [
        "a4 = np.random.randint(10, size=(2, 3, 4, 5))\n",
        "a4"
      ],
      "execution_count": null,
      "outputs": [
        {
          "output_type": "execute_result",
          "data": {
            "text/plain": [
              "array([[[[4, 2, 0, 6, 6],\n",
              "         [5, 9, 6, 0, 8],\n",
              "         [3, 6, 2, 4, 8],\n",
              "         [1, 1, 6, 8, 8]],\n",
              "\n",
              "        [[0, 2, 5, 4, 4],\n",
              "         [8, 9, 3, 6, 1],\n",
              "         [9, 4, 6, 2, 8],\n",
              "         [9, 4, 1, 9, 9]],\n",
              "\n",
              "        [[6, 1, 6, 2, 9],\n",
              "         [4, 3, 8, 8, 4],\n",
              "         [9, 6, 3, 9, 8],\n",
              "         [7, 1, 6, 2, 6]]],\n",
              "\n",
              "\n",
              "       [[[8, 9, 1, 4, 6],\n",
              "         [8, 9, 5, 6, 5],\n",
              "         [5, 2, 7, 0, 6],\n",
              "         [6, 7, 0, 7, 9]],\n",
              "\n",
              "        [[4, 6, 6, 8, 8],\n",
              "         [7, 5, 7, 8, 0],\n",
              "         [7, 1, 2, 8, 8],\n",
              "         [3, 3, 9, 7, 0]],\n",
              "\n",
              "        [[4, 0, 4, 6, 4],\n",
              "         [8, 8, 4, 9, 4],\n",
              "         [8, 8, 4, 3, 7],\n",
              "         [7, 8, 4, 7, 4]]]])"
            ]
          },
          "metadata": {
            "tags": []
          },
          "execution_count": 19
        }
      ]
    },
    {
      "cell_type": "code",
      "metadata": {
        "colab": {
          "base_uri": "https://localhost:8080/"
        },
        "id": "0wliCHTDh0bX",
        "outputId": "24620794-b8a3-4daf-ff0a-615add859ac6"
      },
      "source": [
        "a4.shape"
      ],
      "execution_count": null,
      "outputs": [
        {
          "output_type": "execute_result",
          "data": {
            "text/plain": [
              "(2, 3, 4, 5)"
            ]
          },
          "metadata": {
            "tags": []
          },
          "execution_count": 20
        }
      ]
    },
    {
      "cell_type": "code",
      "metadata": {
        "colab": {
          "base_uri": "https://localhost:8080/"
        },
        "id": "sAIy3HS2h3Ea",
        "outputId": "88caa3af-ec7d-4adb-90c3-27c92e50fc89"
      },
      "source": [
        "# Get only the first 4 numbers of each single vector\n",
        "a4[:, :, :, :4]"
      ],
      "execution_count": null,
      "outputs": [
        {
          "output_type": "execute_result",
          "data": {
            "text/plain": [
              "array([[[[4, 2, 0, 6],\n",
              "         [5, 9, 6, 0],\n",
              "         [3, 6, 2, 4],\n",
              "         [1, 1, 6, 8]],\n",
              "\n",
              "        [[0, 2, 5, 4],\n",
              "         [8, 9, 3, 6],\n",
              "         [9, 4, 6, 2],\n",
              "         [9, 4, 1, 9]],\n",
              "\n",
              "        [[6, 1, 6, 2],\n",
              "         [4, 3, 8, 8],\n",
              "         [9, 6, 3, 9],\n",
              "         [7, 1, 6, 2]]],\n",
              "\n",
              "\n",
              "       [[[8, 9, 1, 4],\n",
              "         [8, 9, 5, 6],\n",
              "         [5, 2, 7, 0],\n",
              "         [6, 7, 0, 7]],\n",
              "\n",
              "        [[4, 6, 6, 8],\n",
              "         [7, 5, 7, 8],\n",
              "         [7, 1, 2, 8],\n",
              "         [3, 3, 9, 7]],\n",
              "\n",
              "        [[4, 0, 4, 6],\n",
              "         [8, 8, 4, 9],\n",
              "         [8, 8, 4, 3],\n",
              "         [7, 8, 4, 7]]]])"
            ]
          },
          "metadata": {
            "tags": []
          },
          "execution_count": 21
        }
      ]
    },
    {
      "cell_type": "markdown",
      "metadata": {
        "id": "ANFje5gEh7aL"
      },
      "source": [
        "a4's shape is (2, 3, 4, 5), this means it gets displayed like so:\n",
        "\n",
        "Inner most array = size 5\n",
        "Next array = size 4\n",
        "Next array = size 3\n",
        "Outer most array = size 2"
      ]
    },
    {
      "cell_type": "markdown",
      "metadata": {
        "id": "9sFE2n9BiAcT"
      },
      "source": [
        "### **4. Manipulating and comparying arrays**"
      ]
    },
    {
      "cell_type": "markdown",
      "metadata": {
        "id": "z4gkp4EqiJaM"
      },
      "source": [
        "\n",
        "\n",
        "*   Arithmetic\n",
        "        +, -, *, /, //, **, %\n",
        "        np.exp()\n",
        "        np.log()\n",
        "        Dot product - np.dot()\n",
        "        Broadcasting\n",
        "*   Aggregation\n",
        "        np.sum() - faster than .sum(), make demo, np is really fast\n",
        "        np.mean()\n",
        "        np.std()\n",
        "        np.var()\n",
        "        np.min()\n",
        "        np.max()\n",
        "        np.argmin() - find index of minimum value\n",
        "        np.argmax() - find index of maximum value\n",
        "        These work on all ndarray's\n",
        "        a4.min(axis=0) -- you can use axis as well\n",
        "\n",
        "*  Reshaping\n",
        "        np.reshape()\n",
        "*  Transposing\n",
        "        a3.T\n",
        "*  Comparison operators\n",
        "        >\n",
        "        <\n",
        "        <=\n",
        "        >=\n",
        "        x != 3\n",
        "        x == 3\n",
        "        np.sum(x > 3)"
      ]
    },
    {
      "cell_type": "markdown",
      "metadata": {
        "id": "ZzLyl922mTWP"
      },
      "source": [
        "### **Arithmetic**"
      ]
    },
    {
      "cell_type": "code",
      "metadata": {
        "colab": {
          "base_uri": "https://localhost:8080/"
        },
        "id": "X_gfwpSKh6QS",
        "outputId": "b40011a8-8b50-4ee1-beeb-cb3bdf3a230f"
      },
      "source": [
        "a1"
      ],
      "execution_count": null,
      "outputs": [
        {
          "output_type": "execute_result",
          "data": {
            "text/plain": [
              "array([1, 2, 3])"
            ]
          },
          "metadata": {
            "tags": []
          },
          "execution_count": 22
        }
      ]
    },
    {
      "cell_type": "code",
      "metadata": {
        "colab": {
          "base_uri": "https://localhost:8080/"
        },
        "id": "1GoCyXdpmVig",
        "outputId": "7ebb5217-4164-499c-cb41-abaa88ccd96f"
      },
      "source": [
        "ones = np.ones(3)\n",
        "ones"
      ],
      "execution_count": null,
      "outputs": [
        {
          "output_type": "execute_result",
          "data": {
            "text/plain": [
              "array([1., 1., 1.])"
            ]
          },
          "metadata": {
            "tags": []
          },
          "execution_count": 23
        }
      ]
    },
    {
      "cell_type": "code",
      "metadata": {
        "colab": {
          "base_uri": "https://localhost:8080/"
        },
        "id": "L0H_dvoEmWRO",
        "outputId": "0c0912ae-f9e0-44db-f6c4-a2958a49a939"
      },
      "source": [
        "# Add two arrays\n",
        "a1 + ones"
      ],
      "execution_count": null,
      "outputs": [
        {
          "output_type": "execute_result",
          "data": {
            "text/plain": [
              "array([2., 3., 4.])"
            ]
          },
          "metadata": {
            "tags": []
          },
          "execution_count": 24
        }
      ]
    },
    {
      "cell_type": "code",
      "metadata": {
        "colab": {
          "base_uri": "https://localhost:8080/"
        },
        "id": "I6jB3UmJmWN6",
        "outputId": "05d7f240-03f9-49f8-d88c-a2b33a42a976"
      },
      "source": [
        "# Subtract two arrays\n",
        "a1 - ones"
      ],
      "execution_count": null,
      "outputs": [
        {
          "output_type": "execute_result",
          "data": {
            "text/plain": [
              "array([0., 1., 2.])"
            ]
          },
          "metadata": {
            "tags": []
          },
          "execution_count": 25
        }
      ]
    },
    {
      "cell_type": "code",
      "metadata": {
        "colab": {
          "base_uri": "https://localhost:8080/"
        },
        "id": "jq6iPgK_mWLY",
        "outputId": "9ff91645-054c-43bf-e6ca-143b9130e102"
      },
      "source": [
        "# Multiply two arrays\n",
        "a1 * ones"
      ],
      "execution_count": null,
      "outputs": [
        {
          "output_type": "execute_result",
          "data": {
            "text/plain": [
              "array([1., 2., 3.])"
            ]
          },
          "metadata": {
            "tags": []
          },
          "execution_count": 26
        }
      ]
    },
    {
      "cell_type": "code",
      "metadata": {
        "colab": {
          "base_uri": "https://localhost:8080/"
        },
        "id": "Bd2WjEg7mWI1",
        "outputId": "ecda8cc3-e60f-40dd-8356-4174175fa40c"
      },
      "source": [
        "# Multiply two arrays\n",
        "a1 * a2"
      ],
      "execution_count": null,
      "outputs": [
        {
          "output_type": "execute_result",
          "data": {
            "text/plain": [
              "array([[ 1. ,  4. ,  9.9],\n",
              "       [ 4. , 10. , 19.5]])"
            ]
          },
          "metadata": {
            "tags": []
          },
          "execution_count": 27
        }
      ]
    },
    {
      "cell_type": "code",
      "metadata": {
        "colab": {
          "base_uri": "https://localhost:8080/"
        },
        "id": "OLX2CsoYmWFv",
        "outputId": "d78d9a75-7db0-4984-d96e-26ef377dbfe1"
      },
      "source": [
        "a1.shape, a2.shape"
      ],
      "execution_count": null,
      "outputs": [
        {
          "output_type": "execute_result",
          "data": {
            "text/plain": [
              "((3,), (2, 3))"
            ]
          },
          "metadata": {
            "tags": []
          },
          "execution_count": 28
        }
      ]
    },
    {
      "cell_type": "code",
      "metadata": {
        "colab": {
          "base_uri": "https://localhost:8080/",
          "height": 162
        },
        "id": "zjFTbrtRmn2G",
        "outputId": "59183bfb-0635-47eb-8217-5587d01ddd95"
      },
      "source": [
        "a2 * a3   #Will give error as shapes are different"
      ],
      "execution_count": null,
      "outputs": [
        {
          "output_type": "error",
          "ename": "ValueError",
          "evalue": "ignored",
          "traceback": [
            "\u001b[0;31m---------------------------------------------------------------------------\u001b[0m",
            "\u001b[0;31mValueError\u001b[0m                                Traceback (most recent call last)",
            "\u001b[0;32m<ipython-input-29-37d8620f1b2c>\u001b[0m in \u001b[0;36m<module>\u001b[0;34m()\u001b[0m\n\u001b[0;32m----> 1\u001b[0;31m \u001b[0ma2\u001b[0m \u001b[0;34m*\u001b[0m \u001b[0ma3\u001b[0m\u001b[0;34m\u001b[0m\u001b[0;34m\u001b[0m\u001b[0m\n\u001b[0m",
            "\u001b[0;31mValueError\u001b[0m: operands could not be broadcast together with shapes (2,3) (2,3,3) "
          ]
        }
      ]
    },
    {
      "cell_type": "markdown",
      "metadata": {
        "id": "rDzktb5_nUMN"
      },
      "source": [
        "### **Broadcasting**\n",
        "\n",
        "*   What is broadcasting?\n",
        "      Broadcasting is a feature of NumPy which performs an operation across multiple dimensions of data without replicating the data. This saves time and space. For example, if you have a 3x3 array (A) and want to add a 1x3 array (B), NumPy will add the row of (B) to every row of (A).\n",
        "*   Rules of Broadcasting\n",
        "      1.If the two arrays differ in their number of dimensions, the shape of the one with fewer dimensions is padded with ones on its leading (left) side.\n",
        "      2.If the shape of the two arrays does not match in any dimension, the array with shape equal to 1 in that dimension is stretched to match the other shape.\n",
        "      3.If in any dimension the sizes disagree and neither is equal to 1, an error is raised.\n",
        "\n",
        "**The broadcasting rule:** In order to broadcast, the size of the trailing axes for both arrays in an operation must be either the same size or one of them must be one.\n"
      ]
    },
    {
      "cell_type": "code",
      "metadata": {
        "colab": {
          "base_uri": "https://localhost:8080/"
        },
        "id": "Fvmy2Rz6nPxu",
        "outputId": "08b8710a-ef61-460e-ea66-81479f686df6"
      },
      "source": [
        "a1"
      ],
      "execution_count": null,
      "outputs": [
        {
          "output_type": "execute_result",
          "data": {
            "text/plain": [
              "array([1, 2, 3])"
            ]
          },
          "metadata": {
            "tags": []
          },
          "execution_count": 31
        }
      ]
    },
    {
      "cell_type": "code",
      "metadata": {
        "id": "jX8GB6RcnPvU"
      },
      "source": [
        "a1.shape"
      ],
      "execution_count": null,
      "outputs": []
    },
    {
      "cell_type": "code",
      "metadata": {
        "id": "e4haOVE2nPsY"
      },
      "source": [
        "a2.shape"
      ],
      "execution_count": null,
      "outputs": []
    },
    {
      "cell_type": "code",
      "metadata": {
        "id": "bJ-ZZo3LnPpi"
      },
      "source": [
        "a2"
      ],
      "execution_count": null,
      "outputs": []
    },
    {
      "cell_type": "code",
      "metadata": {
        "id": "rW3PvcASoJNx"
      },
      "source": [
        "a1 + a2"
      ],
      "execution_count": null,
      "outputs": []
    },
    {
      "cell_type": "code",
      "metadata": {
        "id": "yJi_WEP0oJK8"
      },
      "source": [
        "a2 + 2"
      ],
      "execution_count": null,
      "outputs": []
    },
    {
      "cell_type": "code",
      "metadata": {
        "id": "mC9seS2LoJIh"
      },
      "source": [
        "# Raises an error because there's a shape mismatch\n",
        "a2 + a3"
      ],
      "execution_count": null,
      "outputs": []
    },
    {
      "cell_type": "code",
      "metadata": {
        "id": "cWJPbWE8oJFw"
      },
      "source": [
        "# Divide two arrays\n",
        "a1 / ones"
      ],
      "execution_count": null,
      "outputs": []
    },
    {
      "cell_type": "code",
      "metadata": {
        "id": "WWkWZbWyoJDe"
      },
      "source": [
        "# Divide using floor division\n",
        "a2 // a1"
      ],
      "execution_count": null,
      "outputs": []
    },
    {
      "cell_type": "code",
      "metadata": {
        "id": "niS9jLrvoJBQ"
      },
      "source": [
        "# Take an array to a power\n",
        "a1 ** 2"
      ],
      "execution_count": null,
      "outputs": []
    },
    {
      "cell_type": "code",
      "metadata": {
        "id": "KUko1WzloI-E"
      },
      "source": [
        "# You can also use np.square()\n",
        "np.square(a1) "
      ],
      "execution_count": null,
      "outputs": []
    },
    {
      "cell_type": "code",
      "metadata": {
        "id": "rpfIHOYaoI7V"
      },
      "source": [
        "# Modulus divide (what's the remainder)\n",
        "a1 % 2  "
      ],
      "execution_count": null,
      "outputs": []
    },
    {
      "cell_type": "markdown",
      "metadata": {
        "id": "PNl3IS4MoYOT"
      },
      "source": [
        "You can also find the log or exponential of an array using np.log() and np.exp()"
      ]
    },
    {
      "cell_type": "code",
      "metadata": {
        "id": "rZZjzFCsoI4j"
      },
      "source": [
        "\n",
        "# Find the log of an array\n",
        "np.log(a1)"
      ],
      "execution_count": null,
      "outputs": []
    },
    {
      "cell_type": "code",
      "metadata": {
        "id": "nrLm8qmvodP-"
      },
      "source": [
        "# Find the exponential of an array\n",
        "np.exp(a1)"
      ],
      "execution_count": null,
      "outputs": []
    },
    {
      "cell_type": "markdown",
      "metadata": {
        "id": "x5p9VDVUojJl"
      },
      "source": [
        "### **Aggregation**\n",
        "Aggregation - bringing things together, doing a similar thing on a number of things."
      ]
    },
    {
      "cell_type": "code",
      "metadata": {
        "id": "Vy5l9bCFodNL"
      },
      "source": [
        "sum(a1)"
      ],
      "execution_count": null,
      "outputs": []
    },
    {
      "cell_type": "code",
      "metadata": {
        "id": "XDPAMG8jodKk"
      },
      "source": [
        "np.sum(a1)"
      ],
      "execution_count": null,
      "outputs": []
    },
    {
      "cell_type": "markdown",
      "metadata": {
        "id": "gqt0O_4eos9p"
      },
      "source": [
        "Use NumPy's np.sum() on NumPy arrays and Python's sum() on Python lists."
      ]
    },
    {
      "cell_type": "code",
      "metadata": {
        "id": "96Jc9hVHodGz"
      },
      "source": [
        "massive_array = np.random.random(100000)\n",
        "massive_array.size"
      ],
      "execution_count": null,
      "outputs": []
    },
    {
      "cell_type": "code",
      "metadata": {
        "id": "B5Obhxvco9RB"
      },
      "source": [
        "%timeit sum(massive_array) # Python sum()\n",
        "%timeit np.sum(massive_array) # NumPy np.sum()"
      ],
      "execution_count": null,
      "outputs": []
    },
    {
      "cell_type": "code",
      "metadata": {
        "id": "phXw27AfodEe"
      },
      "source": [
        "import random \n",
        "massive_list = [random.randint(0, 10) for i in range(100000)]\n",
        "len(massive_list) "
      ],
      "execution_count": null,
      "outputs": []
    },
    {
      "cell_type": "code",
      "metadata": {
        "id": "wby3AhGYoc_m"
      },
      "source": [
        "massive_list[:10]"
      ],
      "execution_count": null,
      "outputs": []
    },
    {
      "cell_type": "code",
      "metadata": {
        "id": "IKojcVADoc7e"
      },
      "source": [
        "%timeit sum(massive_list)\n",
        "%timeit np.sum(massive_list)"
      ],
      "execution_count": null,
      "outputs": []
    },
    {
      "cell_type": "code",
      "metadata": {
        "id": "-wgqlcs4pFhg"
      },
      "source": [
        "a2"
      ],
      "execution_count": null,
      "outputs": []
    },
    {
      "cell_type": "code",
      "metadata": {
        "id": "LmN8v74gpFZe"
      },
      "source": [
        "# Find the mean\n",
        "np.mean(a2)"
      ],
      "execution_count": null,
      "outputs": []
    },
    {
      "cell_type": "code",
      "metadata": {
        "id": "92ANEFgtpJVh"
      },
      "source": [
        "# Find the max\n",
        "np.max(a2)"
      ],
      "execution_count": null,
      "outputs": []
    },
    {
      "cell_type": "code",
      "metadata": {
        "id": "sIs-geuLpK6t"
      },
      "source": [
        "# Find the min\n",
        "np.min(a2)"
      ],
      "execution_count": null,
      "outputs": []
    },
    {
      "cell_type": "code",
      "metadata": {
        "id": "XPFIVOMzpMXM"
      },
      "source": [
        "# Find the standard deviation\n",
        "np.std(a2)"
      ],
      "execution_count": null,
      "outputs": []
    },
    {
      "cell_type": "code",
      "metadata": {
        "id": "em9PR51lpNzy"
      },
      "source": [
        "# Find the variance\n",
        "np.var(a2)"
      ],
      "execution_count": null,
      "outputs": []
    },
    {
      "cell_type": "code",
      "metadata": {
        "id": "OOPYjQaLpPhb"
      },
      "source": [
        "# The standard deviation is the square root of the variance\n",
        "np.sqrt(np.var(a2))"
      ],
      "execution_count": null,
      "outputs": []
    },
    {
      "cell_type": "markdown",
      "metadata": {
        "id": "8rwTprQlpRG-"
      },
      "source": [
        "**What's mean?**\n",
        "Mean is the same as average. You can find the average of a set of numbers by adding them up and dividing them by how many there are.\n",
        "\n",
        "**What's standard deviation?**\n",
        "\n",
        "Standard deviation is a measure of how spread out numbers are.\n",
        "\n",
        "**What's variance?**\n",
        "\n",
        "The [variance](https://www.mathsisfun.com/data/standard-deviation.html) is the averaged squared differences of the mean.\n",
        "\n",
        "To work it out, you:                                           \n",
        "      1.Work out the mean                                       \n",
        "      2.For each number, subtract the mean and square the result                                                            \n",
        "      3.Find the average of the squared differences\n",
        "\n",
        "      "
      ]
    },
    {
      "cell_type": "code",
      "metadata": {
        "id": "nnaGLh9Wpftk",
        "colab": {
          "base_uri": "https://localhost:8080/"
        },
        "outputId": "ca083f4d-88d8-4e5d-fa5c-ea8dfec650a7"
      },
      "source": [
        "# Demo of variance\n",
        "high_var_array = np.array([1, 100, 200, 300, 4000, 5000])\n",
        "low_var_array = np.array([2, 4, 6, 8, 10])\n",
        "\n",
        "np.var(high_var_array), np.var(low_var_array)"
      ],
      "execution_count": 8,
      "outputs": [
        {
          "output_type": "execute_result",
          "data": {
            "text/plain": [
              "(4296133.472222221, 8.0)"
            ]
          },
          "metadata": {
            "tags": []
          },
          "execution_count": 8
        }
      ]
    },
    {
      "cell_type": "code",
      "metadata": {
        "colab": {
          "base_uri": "https://localhost:8080/"
        },
        "id": "BJOGWLw1IiHv",
        "outputId": "3a82ad43-31f8-41ab-ae88-7e926e8fa334"
      },
      "source": [
        "np.std(high_var_array), np.std(low_var_array)"
      ],
      "execution_count": 9,
      "outputs": [
        {
          "output_type": "execute_result",
          "data": {
            "text/plain": [
              "(2072.711623024829, 2.8284271247461903)"
            ]
          },
          "metadata": {
            "tags": []
          },
          "execution_count": 9
        }
      ]
    },
    {
      "cell_type": "code",
      "metadata": {
        "colab": {
          "base_uri": "https://localhost:8080/"
        },
        "id": "rhZ-2npPIiE0",
        "outputId": "9295e596-0a0b-4860-a9bf-34dcdcff767d"
      },
      "source": [
        "# The standard deviation is the square root of the variance\n",
        "np.sqrt(np.var(high_var_array))"
      ],
      "execution_count": 10,
      "outputs": [
        {
          "output_type": "execute_result",
          "data": {
            "text/plain": [
              "2072.711623024829"
            ]
          },
          "metadata": {
            "tags": []
          },
          "execution_count": 10
        }
      ]
    },
    {
      "cell_type": "code",
      "metadata": {
        "id": "0LVP3rF6IiBu"
      },
      "source": [
        "%matplotlib inline\n",
        "import matplotlib.pyplot as plt\n",
        "plt.hist(high_var_array)\n",
        "plt.show()"
      ],
      "execution_count": null,
      "outputs": []
    },
    {
      "cell_type": "code",
      "metadata": {
        "id": "fUUyo8L2Ir5g"
      },
      "source": [
        "plt.hist(low_var_array)\n",
        "plt.show()"
      ],
      "execution_count": null,
      "outputs": []
    },
    {
      "cell_type": "markdown",
      "metadata": {
        "id": "ZBqzVyzZI4Po"
      },
      "source": [
        "### **Reshaping**"
      ]
    },
    {
      "cell_type": "code",
      "metadata": {
        "id": "oR9wikf-Itcb"
      },
      "source": [
        "a2"
      ],
      "execution_count": null,
      "outputs": []
    },
    {
      "cell_type": "code",
      "metadata": {
        "id": "10pzT5yvI9pT"
      },
      "source": [
        "a2.shape"
      ],
      "execution_count": null,
      "outputs": []
    },
    {
      "cell_type": "code",
      "metadata": {
        "id": "JkhtpmR2I9mU"
      },
      "source": [
        "a2 + a3"
      ],
      "execution_count": null,
      "outputs": []
    },
    {
      "cell_type": "code",
      "metadata": {
        "id": "wCHT3D_7I9kB"
      },
      "source": [
        "a2.reshape(2, 3, 1)"
      ],
      "execution_count": null,
      "outputs": []
    },
    {
      "cell_type": "code",
      "metadata": {
        "id": "w_nExEKPI9hE"
      },
      "source": [
        "a2.reshape(2, 3, 1) + a3"
      ],
      "execution_count": null,
      "outputs": []
    },
    {
      "cell_type": "markdown",
      "metadata": {
        "id": "yTF2f2VUJHIW"
      },
      "source": [
        "### **Transpose**"
      ]
    },
    {
      "cell_type": "code",
      "metadata": {
        "id": "ETovpNeSI9ef"
      },
      "source": [
        "a2.shape"
      ],
      "execution_count": null,
      "outputs": []
    },
    {
      "cell_type": "code",
      "metadata": {
        "id": "dxyDqT9FI9bh"
      },
      "source": [
        "a2.T"
      ],
      "execution_count": null,
      "outputs": []
    },
    {
      "cell_type": "code",
      "metadata": {
        "id": "qg02vWHFI9Yt"
      },
      "source": [
        "a2.T.shape"
      ],
      "execution_count": null,
      "outputs": []
    },
    {
      "cell_type": "code",
      "metadata": {
        "id": "xjVNPGOcI9WI"
      },
      "source": [
        "matrix = np.random.random(size=(5,3,3))\n",
        "matrix"
      ],
      "execution_count": null,
      "outputs": []
    },
    {
      "cell_type": "code",
      "metadata": {
        "id": "75O1PmxfI9S-"
      },
      "source": [
        "matrix.shape"
      ],
      "execution_count": null,
      "outputs": []
    },
    {
      "cell_type": "code",
      "metadata": {
        "id": "v7lOV9ZVI9Qf"
      },
      "source": [
        "matrix.T"
      ],
      "execution_count": null,
      "outputs": []
    },
    {
      "cell_type": "code",
      "metadata": {
        "id": "o09pX46TI9Nm"
      },
      "source": [
        "matrix.T.shape"
      ],
      "execution_count": null,
      "outputs": []
    },
    {
      "cell_type": "markdown",
      "metadata": {
        "id": "kS9qWlVCJSXE"
      },
      "source": [
        "### **Dot**\n",
        "\n",
        "\n",
        "*   TODO - create graphic for dot versus element-wise also known as Hadamard product\n",
        "*   TODO - why would someone use dot versus element-wise?\n",
        "*   A dot product models real world problems well, it's a method of finding patterns between data\n",
        "\n",
        "\n"
      ]
    },
    {
      "cell_type": "code",
      "metadata": {
        "id": "XKpGl9u_JS8f"
      },
      "source": [
        "np.random.seed(0)\n",
        "mat1 = np.random.randint(10, size=(3, 3))\n",
        "mat2 = np.random.randint(10, size=(3, 2))\n",
        "\n",
        "mat1.shape, mat2.shape"
      ],
      "execution_count": null,
      "outputs": []
    },
    {
      "cell_type": "code",
      "metadata": {
        "id": "cYmYbk4TJUPj"
      },
      "source": [
        "mat1"
      ],
      "execution_count": null,
      "outputs": []
    },
    {
      "cell_type": "code",
      "metadata": {
        "id": "5E9cEsvZJUMK"
      },
      "source": [
        "mat2"
      ],
      "execution_count": null,
      "outputs": []
    },
    {
      "cell_type": "code",
      "metadata": {
        "id": "NMsVQPctJUH-"
      },
      "source": [
        "np.dot(mat1, mat2)"
      ],
      "execution_count": null,
      "outputs": []
    },
    {
      "cell_type": "code",
      "metadata": {
        "id": "M-wxCa3HJUEW"
      },
      "source": [
        "np.random.seed(0)\n",
        "mat3 = np.random.randint(10, size=(4,3))\n",
        "mat4 = np.random.randint(10, size=(4,3))\n",
        "mat3"
      ],
      "execution_count": null,
      "outputs": []
    },
    {
      "cell_type": "code",
      "metadata": {
        "id": "GTb7-m7DJT_b"
      },
      "source": [
        "mat4"
      ],
      "execution_count": null,
      "outputs": []
    },
    {
      "cell_type": "code",
      "metadata": {
        "id": "ZdyPKkdZJT6d"
      },
      "source": [
        "np.dot(mat3, mat4)"
      ],
      "execution_count": null,
      "outputs": []
    },
    {
      "cell_type": "code",
      "metadata": {
        "id": "4pGeK5oLJT3T"
      },
      "source": [
        "mat3.T.shape"
      ],
      "execution_count": null,
      "outputs": []
    },
    {
      "cell_type": "code",
      "metadata": {
        "id": "uTUUQYjbJT0T"
      },
      "source": [
        "# Dot product\n",
        "np.dot(mat3.T, mat4)"
      ],
      "execution_count": null,
      "outputs": []
    },
    {
      "cell_type": "code",
      "metadata": {
        "id": "d6bBTj76JTwr"
      },
      "source": [
        "# Element-wise multiplication, also known as Hadamard product\n",
        "mat3 * mat4"
      ],
      "execution_count": null,
      "outputs": []
    },
    {
      "cell_type": "markdown",
      "metadata": {
        "id": "KVdZoZChJsYR"
      },
      "source": [
        "### **Dot product practical example, nut butter sales**"
      ]
    },
    {
      "cell_type": "code",
      "metadata": {
        "id": "8vSQ0_2rJTtt"
      },
      "source": [
        "np.random.seed(0)\n",
        "sales_amounts = np.random.randint(20, size=(5, 3))\n",
        "sales_amounts"
      ],
      "execution_count": null,
      "outputs": []
    },
    {
      "cell_type": "code",
      "metadata": {
        "id": "fRlS_En2JTqj"
      },
      "source": [
        "weekly_sales = pd.DataFrame(sales_amounts,\n",
        "                            index=[\"Mon\", \"Tues\", \"Wed\", \"Thurs\", \"Fri\"],\n",
        "                            columns=[\"Almond butter\", \"Peanut butter\", \"Cashew butter\"])\n",
        "weekly_sales"
      ],
      "execution_count": null,
      "outputs": []
    },
    {
      "cell_type": "code",
      "metadata": {
        "id": "XV9uaY7qJTnX"
      },
      "source": [
        "prices = np.array([10, 8, 12])\n",
        "prices"
      ],
      "execution_count": null,
      "outputs": []
    },
    {
      "cell_type": "code",
      "metadata": {
        "id": "7Svans6RJTkO"
      },
      "source": [
        "butter_prices = pd.DataFrame(prices.reshape(1, 3),\n",
        "                             index=[\"Price\"],\n",
        "                             columns=[\"Almond butter\", \"Peanut butter\", \"Cashew butter\"])\n",
        "butter_prices.shape"
      ],
      "execution_count": null,
      "outputs": []
    },
    {
      "cell_type": "code",
      "metadata": {
        "id": "mulHanqhJThP"
      },
      "source": [
        "weekly_sales.shape"
      ],
      "execution_count": null,
      "outputs": []
    },
    {
      "cell_type": "code",
      "metadata": {
        "id": "bjalBfCqJTd0"
      },
      "source": [
        "# Find the total amount of sales for a whole day\n",
        "total_sales = prices.dot(sales_amounts)\n",
        "total_sales"
      ],
      "execution_count": null,
      "outputs": []
    },
    {
      "cell_type": "markdown",
      "metadata": {
        "id": "vDMGu_rWJ5Sx"
      },
      "source": [
        "The shapes aren't aligned, we need the middle two numbers to be the same."
      ]
    },
    {
      "cell_type": "code",
      "metadata": {
        "id": "FhyMFkjFJTah"
      },
      "source": [
        "prices"
      ],
      "execution_count": null,
      "outputs": []
    },
    {
      "cell_type": "code",
      "metadata": {
        "id": "Il1J33zdJTWo"
      },
      "source": [
        "sales_amounts.T.shape"
      ],
      "execution_count": null,
      "outputs": []
    },
    {
      "cell_type": "code",
      "metadata": {
        "id": "YjYU4Nl2JTTa"
      },
      "source": [
        "# To make the middle numbers the same, we can transpose\n",
        "total_sales = prices.dot(sales_amounts.T)\n",
        "total_sales"
      ],
      "execution_count": null,
      "outputs": []
    },
    {
      "cell_type": "code",
      "metadata": {
        "id": "zvy5aFe-KAFr"
      },
      "source": [
        "butter_prices.shape, weekly_sales.shape"
      ],
      "execution_count": null,
      "outputs": []
    },
    {
      "cell_type": "code",
      "metadata": {
        "id": "lVcXeLlUKBc3"
      },
      "source": [
        "daily_sales = butter_prices.dot(weekly_sales.T)\n",
        "daily_sales"
      ],
      "execution_count": null,
      "outputs": []
    },
    {
      "cell_type": "code",
      "metadata": {
        "id": "4FdN8OUUKCoC"
      },
      "source": [
        "# Need to transpose again\n",
        "weekly_sales[\"Total\"] = daily_sales.T\n",
        "weekly_sales"
      ],
      "execution_count": null,
      "outputs": []
    },
    {
      "cell_type": "markdown",
      "metadata": {
        "id": "csU2jzdIKE5l"
      },
      "source": [
        "### **Comparison operators**\n"
      ]
    },
    {
      "cell_type": "code",
      "metadata": {
        "id": "VRe5qfyVKClJ"
      },
      "source": [
        "a1"
      ],
      "execution_count": null,
      "outputs": []
    },
    {
      "cell_type": "code",
      "metadata": {
        "id": "ZPP30a5NKBZs"
      },
      "source": [
        "a2"
      ],
      "execution_count": null,
      "outputs": []
    },
    {
      "cell_type": "code",
      "metadata": {
        "id": "oxwzZXFmKACQ"
      },
      "source": [
        "a1 > a2"
      ],
      "execution_count": null,
      "outputs": []
    },
    {
      "cell_type": "code",
      "metadata": {
        "id": "kja5vZIQKP71"
      },
      "source": [
        "a1 >= a2"
      ],
      "execution_count": null,
      "outputs": []
    },
    {
      "cell_type": "code",
      "metadata": {
        "id": "oo4kP4SFKP5V"
      },
      "source": [
        "a1 > 5"
      ],
      "execution_count": null,
      "outputs": []
    },
    {
      "cell_type": "code",
      "metadata": {
        "id": "MIFZ4ZVIKP24"
      },
      "source": [
        "a1 == a1"
      ],
      "execution_count": null,
      "outputs": []
    },
    {
      "cell_type": "code",
      "metadata": {
        "id": "hPnFKHa-KPz3"
      },
      "source": [
        "a1 == a2"
      ],
      "execution_count": null,
      "outputs": []
    },
    {
      "cell_type": "markdown",
      "metadata": {
        "id": "hKUx_R2AKX6V"
      },
      "source": [
        "### **5. Sorting arrays**\n",
        "\n",
        "\n",
        "*   np.sort()\n",
        "*   np.argsort()\n",
        "*   np.argmax()\n",
        "*   np.argmin()\n",
        "\n",
        "\n"
      ]
    },
    {
      "cell_type": "code",
      "metadata": {
        "id": "v6m2A_lPKaHM"
      },
      "source": [
        "random_array"
      ],
      "execution_count": null,
      "outputs": []
    },
    {
      "cell_type": "code",
      "metadata": {
        "id": "QwZ659ADKau2"
      },
      "source": [
        "np.sort(random_array)"
      ],
      "execution_count": null,
      "outputs": []
    },
    {
      "cell_type": "code",
      "metadata": {
        "id": "J7AyYNdKKasL"
      },
      "source": [
        "np.argsort(random_array)"
      ],
      "execution_count": null,
      "outputs": []
    },
    {
      "cell_type": "code",
      "metadata": {
        "id": "ima4LY_nKapU"
      },
      "source": [
        "a1"
      ],
      "execution_count": null,
      "outputs": []
    },
    {
      "cell_type": "code",
      "metadata": {
        "id": "x2FDPHqQKam3"
      },
      "source": [
        "# Return the indices that would sort an array\n",
        "np.argsort(a1)"
      ],
      "execution_count": null,
      "outputs": []
    },
    {
      "cell_type": "code",
      "metadata": {
        "id": "3Fz00XWoKakD"
      },
      "source": [
        "# No axis\n",
        "np.argmin(a1)"
      ],
      "execution_count": null,
      "outputs": []
    },
    {
      "cell_type": "code",
      "metadata": {
        "id": "pE-d2_pTKwGY"
      },
      "source": [
        "random_array"
      ],
      "execution_count": null,
      "outputs": []
    },
    {
      "cell_type": "code",
      "metadata": {
        "id": "Xc4eff4IKwDz"
      },
      "source": [
        "# Down the vertical\n",
        "np.argmax(random_array, axis=1)"
      ],
      "execution_count": null,
      "outputs": []
    },
    {
      "cell_type": "code",
      "metadata": {
        "id": "EYOx_KuyKwBL"
      },
      "source": [
        "# Across the horizontal\n",
        "np.argmin(random_array, axis=0) "
      ],
      "execution_count": null,
      "outputs": []
    },
    {
      "cell_type": "markdown",
      "metadata": {
        "id": "u1_GyPbrK0fL"
      },
      "source": [
        "### **6. Use case**\n",
        "  Turning an image of a panda into numbers."
      ]
    },
    {
      "cell_type": "code",
      "metadata": {
        "id": "pbFVqV3eKv-M"
      },
      "source": [
        "from matplotlib.image import imread\n",
        "\n",
        "panda = imread('../images/numpy-panda.png')\n",
        "print(type(panda)"
      ],
      "execution_count": null,
      "outputs": []
    },
    {
      "cell_type": "code",
      "metadata": {
        "id": "AgA7w0DhKv67"
      },
      "source": [
        "panda.shape"
      ],
      "execution_count": null,
      "outputs": []
    },
    {
      "cell_type": "code",
      "metadata": {
        "id": "o8QFQ67fLI2l"
      },
      "source": [
        "panda"
      ],
      "execution_count": null,
      "outputs": []
    },
    {
      "cell_type": "code",
      "metadata": {
        "id": "1GsjAanULI0G"
      },
      "source": [
        "car = imread(\"../images/numpy-car-photo.png\")\n",
        "car.shape"
      ],
      "execution_count": null,
      "outputs": []
    },
    {
      "cell_type": "code",
      "metadata": {
        "id": "s7yB-IsyLIw_"
      },
      "source": [
        "car[:,:,:3].shape"
      ],
      "execution_count": null,
      "outputs": []
    },
    {
      "cell_type": "code",
      "metadata": {
        "id": "WCeNrv-iLNyq"
      },
      "source": [
        "dog = imread(\"../images/numpy-dog-photo.png\")\n",
        "dog.shape"
      ],
      "execution_count": null,
      "outputs": []
    },
    {
      "cell_type": "code",
      "metadata": {
        "id": "VOOnGmRiLPXR"
      },
      "source": [
        "dog"
      ],
      "execution_count": null,
      "outputs": []
    }
  ]
}