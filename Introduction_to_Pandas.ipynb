{
  "nbformat": 4,
  "nbformat_minor": 0,
  "metadata": {
    "colab": {
      "name": "Untitled1.ipynb",
      "provenance": [],
      "authorship_tag": "ABX9TyPzwGlI4Azrk4C0qUY4JdTs",
      "include_colab_link": true
    },
    "kernelspec": {
      "name": "python3",
      "display_name": "Python 3"
    },
    "language_info": {
      "name": "python"
    }
  },
  "cells": [
    {
      "cell_type": "markdown",
      "metadata": {
        "id": "view-in-github",
        "colab_type": "text"
      },
      "source": [
        "<a href=\"https://colab.research.google.com/github/AvinashShrikhande/Python_For_DataScience/blob/main/Introduction_to_Pandas.ipynb\" target=\"_parent\"><img src=\"https://colab.research.google.com/assets/colab-badge.svg\" alt=\"Open In Colab\"/></a>"
      ]
    },
    {
      "cell_type": "markdown",
      "metadata": {
        "id": "jT33J6ET93w6"
      },
      "source": [
        "### **A Quick Introduction to Data Analysis and Manipulation with pandas**"
      ]
    },
    {
      "cell_type": "markdown",
      "metadata": {
        "id": "JvtfLnmQ9SGV"
      },
      "source": [
        "**What is pandas?**\n",
        "\n",
        "If you're getting into machine learning and data science and you're using Python, you're going to use pandas.\n",
        "\n",
        "pandas is an open source library which helps you analyse and manipulate data."
      ]
    },
    {
      "cell_type": "markdown",
      "metadata": {
        "id": "6J_byjp29eEW"
      },
      "source": [
        "**Why pandas?**\n",
        "\n",
        "pandas provides a simple to use but very capable set of functions you can use to on your data.\n",
        "\n",
        "It's integrated with many other data science and machine learning tools which use Python so having an understanding of it will be helpful throughout your journey.\n",
        "\n",
        "One of the main use cases you'll come across is using pandas to transform your data in a way which makes it usable with machine learning algorithms."
      ]
    },
    {
      "cell_type": "markdown",
      "metadata": {
        "id": "EWjGX854-AiJ"
      },
      "source": [
        "**0. Importing pandas**\n",
        "\n",
        "To get started using pandas, the first step is to import it.\n",
        "\n",
        "The most common way (and method you should use) is to import pandas as the abbreviation pd.\n",
        "\n",
        "If you see the letters pd used anywhere in machine learning or data science, it's probably referring to the pandas library.\n"
      ]
    },
    {
      "cell_type": "code",
      "metadata": {
        "id": "sIRI7Aku9dgq"
      },
      "source": [
        "import pandas as pd"
      ],
      "execution_count": 1,
      "outputs": []
    },
    {
      "cell_type": "markdown",
      "metadata": {
        "id": "NyHlghwp-Hc6"
      },
      "source": [
        "### **1. Datatypes**\n",
        "\n",
        "pandas has two main datatypes, Series and DataFrame.\n",
        "\n",
        "*   Series - a 1-dimensional column of data.\n",
        "*   DataFrame (most common) - a 2-dimesional table of data with rows and columns.\n",
        "\n",
        "You can create a Series using pd.Series() and passing it a Python list."
      ]
    },
    {
      "cell_type": "code",
      "metadata": {
        "colab": {
          "base_uri": "https://localhost:8080/"
        },
        "id": "EIqcAsyr9BSP",
        "outputId": "1312a64a-e86d-4fcd-999c-5d31df380ae1"
      },
      "source": [
        "# Creating a series of car types\n",
        "cars = pd.Series([\"BMW\", \"Toyota\", \"Honda\"])\n",
        "cars"
      ],
      "execution_count": 2,
      "outputs": [
        {
          "output_type": "execute_result",
          "data": {
            "text/plain": [
              "0       BMW\n",
              "1    Toyota\n",
              "2     Honda\n",
              "dtype: object"
            ]
          },
          "metadata": {
            "tags": []
          },
          "execution_count": 2
        }
      ]
    },
    {
      "cell_type": "code",
      "metadata": {
        "colab": {
          "base_uri": "https://localhost:8080/"
        },
        "id": "1_u6M-Zp-Z03",
        "outputId": "725c4754-c7ab-4ff0-8754-e7b6d5bc6911"
      },
      "source": [
        "# Creating a series of colours\n",
        "colours = pd.Series([\"Blue\", \"Red\", \"White\"])\n",
        "colours"
      ],
      "execution_count": 3,
      "outputs": [
        {
          "output_type": "execute_result",
          "data": {
            "text/plain": [
              "0     Blue\n",
              "1      Red\n",
              "2    White\n",
              "dtype: object"
            ]
          },
          "metadata": {
            "tags": []
          },
          "execution_count": 3
        }
      ]
    },
    {
      "cell_type": "code",
      "metadata": {
        "id": "5czCwwnG-Zyj"
      },
      "source": [
        "# Creating a DataFrame of cars and colours\n",
        "car_data = pd.DataFrame({\"Car type\": cars, \n",
        "                         \"Colour\": colours})"
      ],
      "execution_count": 4,
      "outputs": []
    },
    {
      "cell_type": "code",
      "metadata": {
        "colab": {
          "base_uri": "https://localhost:8080/",
          "height": 136
        },
        "id": "POceFkBR-Zv9",
        "outputId": "9bb7c152-6f21-43a4-9856-dd21d9d05b2a"
      },
      "source": [
        "car_data"
      ],
      "execution_count": 5,
      "outputs": [
        {
          "output_type": "execute_result",
          "data": {
            "text/html": [
              "<div>\n",
              "<style scoped>\n",
              "    .dataframe tbody tr th:only-of-type {\n",
              "        vertical-align: middle;\n",
              "    }\n",
              "\n",
              "    .dataframe tbody tr th {\n",
              "        vertical-align: top;\n",
              "    }\n",
              "\n",
              "    .dataframe thead th {\n",
              "        text-align: right;\n",
              "    }\n",
              "</style>\n",
              "<table border=\"1\" class=\"dataframe\">\n",
              "  <thead>\n",
              "    <tr style=\"text-align: right;\">\n",
              "      <th></th>\n",
              "      <th>Car type</th>\n",
              "      <th>Colour</th>\n",
              "    </tr>\n",
              "  </thead>\n",
              "  <tbody>\n",
              "    <tr>\n",
              "      <th>0</th>\n",
              "      <td>BMW</td>\n",
              "      <td>Blue</td>\n",
              "    </tr>\n",
              "    <tr>\n",
              "      <th>1</th>\n",
              "      <td>Toyota</td>\n",
              "      <td>Red</td>\n",
              "    </tr>\n",
              "    <tr>\n",
              "      <th>2</th>\n",
              "      <td>Honda</td>\n",
              "      <td>White</td>\n",
              "    </tr>\n",
              "  </tbody>\n",
              "</table>\n",
              "</div>"
            ],
            "text/plain": [
              "  Car type Colour\n",
              "0      BMW   Blue\n",
              "1   Toyota    Red\n",
              "2    Honda  White"
            ]
          },
          "metadata": {
            "tags": []
          },
          "execution_count": 5
        }
      ]
    },
    {
      "cell_type": "markdown",
      "metadata": {
        "id": "aaaZTsLu-mPL"
      },
      "source": [
        "You can see the keys of the dictionary became the column headings (text in bold) and the values of the two Series's became the values in the DataFrame.\n",
        "\n",
        "It's important to note, many different types of data could go into the DataFrame.\n",
        "\n",
        "Here we've used only text but you could use floats, integers and more."
      ]
    },
    {
      "cell_type": "markdown",
      "metadata": {
        "id": "AHpqnMgR-olF"
      },
      "source": [
        "### **Exercises**\n",
        "\n",
        "1.   Make a Series of different foods.\n",
        "2.   Make a Series of different dollar values (these can be integers).\n",
        "3.   Combine your Series's of foods and dollar values into a DataFrame."
      ]
    },
    {
      "cell_type": "code",
      "metadata": {
        "colab": {
          "base_uri": "https://localhost:8080/",
          "height": 136
        },
        "id": "irFnzoSr-ZtD",
        "outputId": "486d14bf-cc79-44e1-996d-8985c59c0fea"
      },
      "source": [
        "# Example solution\n",
        "\n",
        "# Make a Series of different foods\n",
        "foods = pd.Series([\"Almond butter\", \"Eggs\", \"Avocado\"])\n",
        "\n",
        "# Make a Series of different dollar values \n",
        "prices = pd.Series([9, 6, 2])\n",
        "\n",
        "# Combine your Series of foods and dollar values into a DataFrame\n",
        "food_data = pd.DataFrame({\"Foods\": foods,\n",
        "                          \"Price\": prices})\n",
        "\n",
        "food_data"
      ],
      "execution_count": 6,
      "outputs": [
        {
          "output_type": "execute_result",
          "data": {
            "text/html": [
              "<div>\n",
              "<style scoped>\n",
              "    .dataframe tbody tr th:only-of-type {\n",
              "        vertical-align: middle;\n",
              "    }\n",
              "\n",
              "    .dataframe tbody tr th {\n",
              "        vertical-align: top;\n",
              "    }\n",
              "\n",
              "    .dataframe thead th {\n",
              "        text-align: right;\n",
              "    }\n",
              "</style>\n",
              "<table border=\"1\" class=\"dataframe\">\n",
              "  <thead>\n",
              "    <tr style=\"text-align: right;\">\n",
              "      <th></th>\n",
              "      <th>Foods</th>\n",
              "      <th>Price</th>\n",
              "    </tr>\n",
              "  </thead>\n",
              "  <tbody>\n",
              "    <tr>\n",
              "      <th>0</th>\n",
              "      <td>Almond butter</td>\n",
              "      <td>9</td>\n",
              "    </tr>\n",
              "    <tr>\n",
              "      <th>1</th>\n",
              "      <td>Eggs</td>\n",
              "      <td>6</td>\n",
              "    </tr>\n",
              "    <tr>\n",
              "      <th>2</th>\n",
              "      <td>Avocado</td>\n",
              "      <td>2</td>\n",
              "    </tr>\n",
              "  </tbody>\n",
              "</table>\n",
              "</div>"
            ],
            "text/plain": [
              "           Foods  Price\n",
              "0  Almond butter      9\n",
              "1           Eggs      6\n",
              "2        Avocado      2"
            ]
          },
          "metadata": {
            "tags": []
          },
          "execution_count": 6
        }
      ]
    },
    {
      "cell_type": "markdown",
      "metadata": {
        "id": "2LdRAfQr9RPd"
      },
      "source": [
        "### **2. Importing data**"
      ]
    }
  ]
}